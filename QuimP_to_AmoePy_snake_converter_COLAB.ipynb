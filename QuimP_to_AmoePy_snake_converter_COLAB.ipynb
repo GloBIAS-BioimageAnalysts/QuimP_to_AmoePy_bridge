{
  "cells": [
    {
      "cell_type": "markdown",
      "id": "0ca84646",
      "metadata": {
        "id": "0ca84646"
      },
      "source": [
        "# QuimP to AmoePy snake converter"
      ]
    },
    {
      "cell_type": "code",
      "execution_count": null,
      "id": "38b295b3",
      "metadata": {
        "id": "38b295b3"
      },
      "outputs": [],
      "source": [
        "import pandas as pd\n",
        "import numpy as np"
      ]
    },
    {
      "cell_type": "markdown",
      "source": [
        "---\n",
        "##Load \"_snake.csv\" files from QuimP\n",
        "\n",
        "1. Click the folder icon 📁 on the left sidebar\n",
        "\n",
        "2. Click the upload button (folder with up arrow icon)\n",
        "\n",
        "3. Select the file(s) from your computer to upload\n"
      ],
      "metadata": {
        "id": "tJMmcc7A2M6s"
      },
      "id": "tJMmcc7A2M6s"
    },
    {
      "cell_type": "markdown",
      "source": [
        "---\n",
        "##Define convertion variables\n"
      ],
      "metadata": {
        "id": "2nh8XpeI0EPf"
      },
      "id": "2nh8XpeI0EPf"
    },
    {
      "cell_type": "code",
      "source": [
        "input_file = '/content/sample_snake.csv'\n",
        "output_file = '/content/sample_snake_forAmoePy.csv'\n",
        "time_per_frame = 0.4\n",
        "pixel_size_um = 0.35"
      ],
      "metadata": {
        "id": "LLz41rIQ0L5D"
      },
      "id": "LLz41rIQ0L5D",
      "execution_count": null,
      "outputs": []
    },
    {
      "cell_type": "markdown",
      "source": [
        "---\n",
        "## Run convertion"
      ],
      "metadata": {
        "id": "NdsTIeNV2uGs"
      },
      "id": "NdsTIeNV2uGs"
    },
    {
      "cell_type": "code",
      "execution_count": null,
      "id": "e9c99a6e",
      "metadata": {
        "cellView": "form",
        "id": "e9c99a6e",
        "outputId": "1d6d441b-c93e-4c9f-cc05-0199c3cecb26"
      },
      "outputs": [
        {
          "name": "stdout",
          "output_type": "stream",
          "text": [
            "Snake Format Converter\n",
            "========================================\n",
            "Input file: snake.csv\n",
            "Output file: snake_converted.txt\n",
            "Error: Could not find input file 'snake.csv'\n",
            "Please make sure the file exists in the current directory.\n"
          ]
        }
      ],
      "source": [
        "# @title\n",
        "def convert_snake(input_file, output_file, time_per_frame=1, pixel_size_um=1):\n",
        "    \"\"\"\n",
        "    Convert snake from frame-based format to time-series format.\n",
        "\n",
        "    Parameters:\n",
        "    input_file (str): Path to input CSV file\n",
        "    output_file (str): Path to output TXT file\n",
        "    \"\"\"\n",
        "\n",
        "    # Dictionary to store data for each frame\n",
        "    frames_data = {}\n",
        "    current_frame = None\n",
        "\n",
        "    # Read the input file line by line\n",
        "    with open(input_file, 'r') as f:\n",
        "        lines = f.readlines()\n",
        "\n",
        "    # Parse the data\n",
        "    for line in lines:\n",
        "        line = line.strip()\n",
        "\n",
        "        # Skip empty lines\n",
        "        if not line:\n",
        "            continue\n",
        "\n",
        "        # Check if this is a frame header\n",
        "        if line.startswith('#frame'):\n",
        "            current_frame = int(line.split()[1])\n",
        "            frames_data[current_frame] = []\n",
        "        else:\n",
        "            # This is a data line - split by tabs\n",
        "            parts = line.split('\\t')\n",
        "            if len(parts) >= 6:  # Ensure we have enough columns\n",
        "                try:\n",
        "                    # Extract node_x and node_y (columns 4 and 5, 0-indexed)\n",
        "                    node_x = float(parts[4]) / pixel_size_um  # Convert to micrometers\n",
        "                    node_y = float(parts[5]) / pixel_size_um  # Convert to micrometers\n",
        "                    frames_data[current_frame].append((node_x, node_y))\n",
        "                except (ValueError, IndexError):\n",
        "                    # Skip lines that can't be parsed as numbers\n",
        "                    continue\n",
        "\n",
        "    # Convert to output format\n",
        "    output_lines = []\n",
        "\n",
        "    # Add header line\n",
        "    header = \"# time_0 & X_0,0 & Y_0,0 & X_0,1 & Y_0,1 & X_0,2 & ... // time_1 & X_1,0 & Y_1,0 & X_1,1 & Y_1,1 & X_1,2 & ... // ...; Units: $s, \\\\mu m$, (Seconds, Mikrometer)\"\n",
        "    output_lines.append(header)\n",
        "\n",
        "    # Sort frames by frame number\n",
        "    sorted_frames = sorted(frames_data.keys())\n",
        "\n",
        "    for frame_num in sorted_frames:\n",
        "        coordinates = frames_data[frame_num]\n",
        "\n",
        "        # Convert frame number to time in seconds\n",
        "        time_seconds = (frame_num - 1) * time_per_frame  # Convert to 0-based time indexing\n",
        "\n",
        "        # Create the output line: time followed by alternating x,y coordinates\n",
        "        # line_parts = [str(frame_num - 1)]  # Convert to 0-based time indexing\n",
        "        line_parts = [f\"{time_seconds:.6f}\"]\n",
        "\n",
        "        for x, y in coordinates:\n",
        "            line_parts.extend([f\"{x:.6f}\", f\"{y:.6f}\"])\n",
        "\n",
        "        output_lines.append(' '.join(line_parts)) # sepparate items with a space\n",
        "\n",
        "    # Write to output file\n",
        "    with open(output_file, 'w') as f:\n",
        "        f.write('\\n'.join(output_lines))\n",
        "\n",
        "    print(f\"Conversion complete!\")\n",
        "    print(f\"Processed {len(sorted_frames)} frames\")\n",
        "    print(f\"Output saved to: {output_file}\")\n",
        "\n",
        "\n",
        "\n",
        "    return frames_data\n",
        "\n",
        "def preview_data(frames_data, num_frames=3):\n",
        "    \"\"\"\n",
        "    Preview the first few frames of data for verification.\n",
        "\n",
        "    Parameters:\n",
        "    frames_data (dict): Dictionary containing frame data\n",
        "    num_frames (int): Number of frames to preview\n",
        "    \"\"\"\n",
        "    print(\"\\n\" + \"=\"*60)\n",
        "    print(\"DATA PREVIEW\")\n",
        "    print(\"=\"*60)\n",
        "\n",
        "    sorted_frames = sorted(frames_data.keys())[:num_frames]\n",
        "\n",
        "    for frame_num in sorted_frames:\n",
        "        coordinates = frames_data[frame_num]\n",
        "        print(f\"\\nFrame {frame_num} ({len(coordinates)} nodes):\")\n",
        "        print(\"Node#\\tX\\tY\")\n",
        "        print(\"-\" * 30)\n",
        "\n",
        "        for i, (x, y) in enumerate(coordinates[:5]):  # Show first 5 nodes\n",
        "            print(f\"{i}\\t{x:.4f}\\t{y:.4f}\")\n",
        "\n",
        "        if len(coordinates) > 5:\n",
        "            print(f\"... and {len(coordinates) - 5} more nodes\")\n",
        "# Additional utility functions for analysis\n",
        "def analyze_snake_data(frames_data):\n",
        "    \"\"\"\n",
        "    Analyze the snake data to provide insights.\n",
        "\n",
        "    Parameters:\n",
        "    frames_data (dict): Dictionary containing frame data\n",
        "    \"\"\"\n",
        "    if not frames_data:\n",
        "        print(\"No data to analyze.\")\n",
        "        return\n",
        "\n",
        "    print(\"\\n\" + \"=\"*60)\n",
        "    print(\"DATA ANALYSIS\")\n",
        "    print(\"=\"*60)\n",
        "\n",
        "    frame_numbers = sorted(frames_data.keys())\n",
        "    node_counts = [len(frames_data[frame]) for frame in frame_numbers]\n",
        "\n",
        "    print(f\"Number of frames: {len(frame_numbers)}\")\n",
        "    print(f\"Frame range: {min(frame_numbers)} to {max(frame_numbers)}\")\n",
        "    print(f\"Nodes per frame: {min(node_counts)} to {max(node_counts)}\")\n",
        "    print(f\"Average nodes per frame: {np.mean(node_counts):.1f}\")\n",
        "\n",
        "    # Check for consistency in node count\n",
        "    unique_counts = set(node_counts)\n",
        "    if len(unique_counts) == 1:\n",
        "        print(f\"✓ Consistent node count across all frames: {node_counts[0]}\")\n",
        "    else:\n",
        "        print(f\"⚠ Variable node counts detected: {sorted(unique_counts)}\")\n",
        "\n",
        "def main(input_file, output_file, time_per_frame, pixel_size_um):\n",
        "\n",
        "    print(\"Snake Format Converter\")\n",
        "    print(\"=\" * 40)\n",
        "    print(f\"Input file: {input_file}\")\n",
        "    print(f\"Output file: {output_file}\")\n",
        "\n",
        "    try:\n",
        "        # Convert the file\n",
        "        frames_data = convert_snake(input_file, output_file, time_per_frame, pixel_size_um)\n",
        "\n",
        "        # Preview the data\n",
        "        preview_data(frames_data)\n",
        "\n",
        "        # Show sample output format\n",
        "        print(\"\\n\" + \"=\"*60)\n",
        "        print(\"SAMPLE OUTPUT FORMAT\")\n",
        "        print(\"=\"*60)\n",
        "        print(\"time\\tX_0\\tY_0\\tX_1\\tY_1\\tX_2\\tY_2\\t...\")\n",
        "\n",
        "        # Read and display first few lines of output\n",
        "        with open(output_file, 'r') as f:\n",
        "            output_lines = f.readlines()\n",
        "\n",
        "        for i, line in enumerate(output_lines[:3]):\n",
        "            parts = line.strip().split('\\t')\n",
        "            preview_parts = parts[:7] if len(parts) > 7 else parts\n",
        "            if len(parts) > 7:\n",
        "                preview_parts.append('...')\n",
        "            print('\\t'.join(preview_parts))\n",
        "\n",
        "        return frames_data\n",
        "\n",
        "    except FileNotFoundError:\n",
        "        print(f\"Error: Could not find input file '{input_file}'\")\n",
        "        print(\"Please make sure the file exists in the current directory.\")\n",
        "        return None\n",
        "    except Exception as e:\n",
        "        print(f\"Error during conversion: {str(e)}\")\n",
        "        return None\n",
        "\n",
        "# Execute the conversion\n",
        "if __name__ == \"__main__\":\n",
        "    frames_data = main(input_file, output_file, time_per_frame, pixel_size_um)\n",
        "\n",
        "# Run analysis if data was successfully loaded\n",
        "if 'frames_data' in locals() and frames_data:\n",
        "    analyze_snake_data(frames_data)\n"
      ]
    }
  ],
  "metadata": {
    "kernelspec": {
      "display_name": "jupy310",
      "language": "python",
      "name": "python3"
    },
    "language_info": {
      "codemirror_mode": {
        "name": "ipython",
        "version": 3
      },
      "file_extension": ".py",
      "mimetype": "text/x-python",
      "name": "python",
      "nbconvert_exporter": "python",
      "pygments_lexer": "ipython3",
      "version": "3.10.13"
    },
    "colab": {
      "provenance": []
    }
  },
  "nbformat": 4,
  "nbformat_minor": 5
}